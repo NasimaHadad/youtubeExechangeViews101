{
 "cells": [
  {
   "cell_type": "markdown",
   "id": "54697cdb",
   "metadata": {},
   "source": [
    "## SELENIUM PRO : search video creative commons"
   ]
  },
  {
   "cell_type": "code",
   "execution_count": 1,
   "id": "27e4f158",
   "metadata": {},
   "outputs": [
    {
     "name": "stdout",
     "output_type": "stream",
     "text": [
      "user-data-dir=C:\\Users\\asus\\Desktop\\CreativeCommons\\youtube project01\\profile\n"
     ]
    }
   ],
   "source": [
    "# Importing Packages\n",
    "from selenium import webdriver\n",
    "import time\n",
    "import os\n",
    "\n",
    "cwd = os.getcwd()\n",
    "print(f\"user-data-dir={cwd}\\profile\")"
   ]
  },
  {
   "cell_type": "markdown",
   "id": "f463b86c",
   "metadata": {},
   "source": [
    "## Launch Your First Selenium Browser"
   ]
  },
  {
   "cell_type": "code",
   "execution_count": 2,
   "id": "530060a3",
   "metadata": {},
   "outputs": [],
   "source": [
    "# Launch automated chrome browser \n",
    "\n",
    "# How to find your chrome profile ?\n",
    "# 1- go to your bowser navbar\n",
    "# 2- type \"chrome://version/\"\n",
    "# set chrome webdriver option\n",
    "options = webdriver.ChromeOptions()\n",
    "\n",
    "# add arguments to options\n",
    "options.add_argument(r\"--user-data-dir=C:\\Users\\asus\\AppData\\Local\\Google\\Chrome\\User Data\") #open C:\\Users\\You\\AppData\\Local\\Google\\Chrome\\User Data\n",
    "options.add_argument(r'--profile-directory=Profile 17') #open Profile 7\n",
    "\n",
    "driver = webdriver.Chrome(options=options)\n",
    "\n",
    "# URL Site Youtube\n",
    "base_url = 'https://www.youtube.com/'\n",
    "driver.get(base_url)\n",
    "time.sleep(3)"
   ]
  },
  {
   "cell_type": "code",
   "execution_count": null,
   "id": "63ec5425",
   "metadata": {},
   "outputs": [],
   "source": [
    "# create code to type click CREER BY XPATH\n",
    "# TAG = yt-icon\n",
    "# ATR = class=\"style-scope ytd-topbar-menu-button-renderer\n",
    "#//button[@class=\"style-scope ytd-topbar-menu-button-renderer\"]"
   ]
  },
  {
   "cell_type": "code",
   "execution_count": 3,
   "id": "37e65f5e",
   "metadata": {},
   "outputs": [],
   "source": [
    "clickCREATE = driver.find_element_by_xpath('//button[@aria-label=\"Create\"]')\n",
    "clickCREATE.click()\n",
    "time.sleep(3)\n"
   ]
  },
  {
   "cell_type": "code",
   "execution_count": null,
   "id": "71114896",
   "metadata": {},
   "outputs": [],
   "source": [
    "# create code to type upload video BY XPATH\n",
    "# TAG = yt-formatted-string\n",
    "# ATR = text()=\"Upload video\"\n",
    "#//yt-formatted-string[@text()=\"Upload video\"]"
   ]
  },
  {
   "cell_type": "code",
   "execution_count": 4,
   "id": "b2adfa3b",
   "metadata": {},
   "outputs": [],
   "source": [
    "uploadVideo = driver.find_element_by_xpath('//yt-formatted-string[text()=\"Upload video\"]')\n",
    "uploadVideo.click()\n",
    "time.sleep(3)\n"
   ]
  },
  {
   "cell_type": "code",
   "execution_count": null,
   "id": "d7959558",
   "metadata": {},
   "outputs": [],
   "source": [
    "# create code to type select files BY XPATH\n",
    "# TAG = div\n",
    "# ATR = text()=\"Select files\"\n",
    "#//div[text()=\"Select files\"]"
   ]
  },
  {
   "cell_type": "code",
   "execution_count": 22,
   "id": "782176af",
   "metadata": {},
   "outputs": [
    {
     "ename": "SyntaxError",
     "evalue": "(unicode error) 'unicodeescape' codec can't decode bytes in position 2-3: truncated \\UXXXXXXXX escape (<ipython-input-22-009b0edb87df>, line 2)",
     "output_type": "error",
     "traceback": [
      "\u001b[1;36m  File \u001b[1;32m\"<ipython-input-22-009b0edb87df>\"\u001b[1;36m, line \u001b[1;32m2\u001b[0m\n\u001b[1;33m    selectFiles.send_keys(\"C:\\Users\\asus\\Videos\\myvideo.mp4\")\u001b[0m\n\u001b[1;37m                          ^\u001b[0m\n\u001b[1;31mSyntaxError\u001b[0m\u001b[1;31m:\u001b[0m (unicode error) 'unicodeescape' codec can't decode bytes in position 2-3: truncated \\UXXXXXXXX escape\n"
     ]
    }
   ],
   "source": [
    "selectFiles = driver.find_element_by_xpath('//div[text()=\"Select files\"]')\n",
    "selectFiles.send_keys(\"C:\\Users\\asus\\Videos\\myvideo.mp4\")\n",
    "time.sleep(3)\n"
   ]
  },
  {
   "cell_type": "code",
   "execution_count": 21,
   "id": "a3f760ff",
   "metadata": {},
   "outputs": [],
   "source": [
    "from os import listdir\n",
    "from selenium.common.exceptions import WebDriverException"
   ]
  },
  {
   "cell_type": "code",
   "execution_count": null,
   "id": "080ec7f2",
   "metadata": {},
   "outputs": [],
   "source": []
  }
 ],
 "metadata": {
  "kernelspec": {
   "display_name": "Python 3",
   "language": "python",
   "name": "python3"
  },
  "language_info": {
   "codemirror_mode": {
    "name": "ipython",
    "version": 3
   },
   "file_extension": ".py",
   "mimetype": "text/x-python",
   "name": "python",
   "nbconvert_exporter": "python",
   "pygments_lexer": "ipython3",
   "version": "3.8.8"
  }
 },
 "nbformat": 4,
 "nbformat_minor": 5
}

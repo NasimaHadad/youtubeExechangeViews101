{
 "cells": [
  {
   "cell_type": "code",
   "execution_count": 2,
   "id": "633cf8b9",
   "metadata": {},
   "outputs": [],
   "source": [
    "from selenium import webdriver\n",
    "import time"
   ]
  },
  {
   "cell_type": "markdown",
   "id": "28ea6488",
   "metadata": {},
   "source": [
    "# Selenium Pro - Facebook-Auto-Poster"
   ]
  },
  {
   "cell_type": "markdown",
   "id": "181334a4",
   "metadata": {},
   "source": [
    "## Section 1 : Launch Browser"
   ]
  },
  {
   "cell_type": "code",
   "execution_count": 3,
   "id": "789e4b09",
   "metadata": {},
   "outputs": [],
   "source": [
    "# Launch automated chrome browser\n",
    "driver = webdriver.Chrome()\n",
    "# URL Site Facebook\n",
    "base_url = 'https://en-gb.facebook.com/'\n",
    "driver.get(base_url)\n",
    "time.sleep(3)"
   ]
  },
  {
   "cell_type": "code",
   "execution_count": 4,
   "id": "07af45c2",
   "metadata": {},
   "outputs": [],
   "source": [
    "# Maximize the browser window\n",
    "driver.maximize_window()"
   ]
  },
  {
   "cell_type": "markdown",
   "id": "9effc22f",
   "metadata": {},
   "source": [
    "## Section 2 : sign in process"
   ]
  },
  {
   "cell_type": "code",
   "execution_count": null,
   "id": "cf26c0e9",
   "metadata": {},
   "outputs": [],
   "source": [
    "# Account login information"
   ]
  },
  {
   "cell_type": "code",
   "execution_count": 7,
   "id": "62ca1964",
   "metadata": {},
   "outputs": [],
   "source": [
    "email = 'tv.marketing2020@gmail.com'\n",
    "password = 'ABDELKARIMNASIMA8284@07NA@R@'\n",
    "\n",
    "# Create Xpath code to type email\n",
    "# tag = input\n",
    "# atr = aria-label=\"Email address or phone number\"\n",
    "#//input[@aria-label=\"Email address or phone number\"]\n",
    "#####################################################\n",
    "# Create Xpath code to type password\n",
    "# tag = \n",
    "# atr = \n",
    "\n",
    "#####################################################\n",
    "# Create Xpath code to type login\n",
    "# tag = \n",
    "# atr =\n",
    "\n"
   ]
  },
  {
   "cell_type": "code",
   "execution_count": 8,
   "id": "a65e624e",
   "metadata": {},
   "outputs": [],
   "source": [
    "# Enter Email\n",
    "# Laocte element\n",
    "userElement = driver.find_element_by_xpath('//input[@aria-label=\"Email address or phone number\"]')\n",
    "userElement.send_keys(email)"
   ]
  },
  {
   "cell_type": "code",
   "execution_count": 9,
   "id": "94ebc3d4",
   "metadata": {},
   "outputs": [],
   "source": [
    "# Enter password\n",
    "# Locate element\n",
    "passwordElement = driver.find_element_by_xpath('//input[@placeholder=\"Password\"]')\n",
    "passwordElement.send_keys(password)\n",
    "time.sleep(3)"
   ]
  },
  {
   "cell_type": "code",
   "execution_count": 10,
   "id": "2ac52bfe",
   "metadata": {},
   "outputs": [],
   "source": [
    "# Type code xpath button login\n",
    "buttonElement = driver.find_element_by_xpath('//button[@name=\"login\"]')\n",
    "buttonElement.click()\n",
    "time.sleep(3)"
   ]
  },
  {
   "cell_type": "code",
   "execution_count": null,
   "id": "61902e67",
   "metadata": {},
   "outputs": [],
   "source": []
  }
 ],
 "metadata": {
  "kernelspec": {
   "display_name": "Python 3",
   "language": "python",
   "name": "python3"
  },
  "language_info": {
   "codemirror_mode": {
    "name": "ipython",
    "version": 3
   },
   "file_extension": ".py",
   "mimetype": "text/x-python",
   "name": "python",
   "nbconvert_exporter": "python",
   "pygments_lexer": "ipython3",
   "version": "3.8.8"
  }
 },
 "nbformat": 4,
 "nbformat_minor": 5
}

{
 "cells": [
  {
   "cell_type": "markdown",
   "id": "25fbebdf",
   "metadata": {},
   "source": [
    "# Selenium Pro - Annonces Immobilier -"
   ]
  },
  {
   "cell_type": "code",
   "execution_count": 1,
   "id": "b64bedb8",
   "metadata": {},
   "outputs": [],
   "source": [
    "from selenium import webdriver\n",
    "import time\n",
    "import os\n",
    "from selenium.common.exceptions import NoSuchElementException\n"
   ]
  },
  {
   "cell_type": "markdown",
   "id": "3df94b5a",
   "metadata": {},
   "source": [
    "# Selenium Pro - PostAnnoncesIMmobilier"
   ]
  },
  {
   "cell_type": "markdown",
   "id": "20274142",
   "metadata": {},
   "source": [
    "## Section 1 : Launch Browser"
   ]
  },
  {
   "cell_type": "code",
   "execution_count": 2,
   "id": "7a1c4bea",
   "metadata": {},
   "outputs": [],
   "source": [
    "driver = webdriver.Chrome()\n",
    "\n",
    "# URL Site Youtube\n",
    "base_url = 'https://www.marocannonces.com/mon-compte/'\n",
    "driver.get(base_url)\n",
    "time.sleep(3)"
   ]
  },
  {
   "cell_type": "code",
   "execution_count": 3,
   "id": "b457e347",
   "metadata": {},
   "outputs": [],
   "source": [
    "driver.delete_all_cookies()"
   ]
  },
  {
   "cell_type": "code",
   "execution_count": 4,
   "id": "e359f089",
   "metadata": {},
   "outputs": [],
   "source": [
    "# Maximaize the browser window\n",
    "driver.maximize_window()"
   ]
  },
  {
   "cell_type": "markdown",
   "id": "5c664eb0",
   "metadata": {},
   "source": [
    "## Section 2 : Sign in Process"
   ]
  },
  {
   "cell_type": "code",
   "execution_count": 5,
   "id": "247f8d5e",
   "metadata": {},
   "outputs": [],
   "source": [
    "# Account login information"
   ]
  },
  {
   "cell_type": "code",
   "execution_count": 6,
   "id": "8564f514",
   "metadata": {},
   "outputs": [],
   "source": [
    "NomUtilisateur = 'xenaX7'\n",
    "password = 'root@25-12TOOR77xy00'\n",
    "\n",
    "# Create Xpath code to type userName\n",
    "# tag = input\n",
    "# atr = id=\"username\"\n",
    "#//input[@id=\"username\"]\n",
    "#####################################################\n",
    "# Create Xpath code to type password\n",
    "# tag = input\n",
    "# atr = id=\"password\"\n",
    "#//input[@id=\"password\"]\n",
    "#####################################################\n",
    "# Create Xpath code to type Valider\n",
    "# tag = input\n",
    "# atr = value=\"Valider\"\n",
    "# //input[@value=\"Valider\"]\n",
    "#######################################################\n",
    "# Create Xpath code to click publier une annonce\n",
    "# tag = a\n",
    "# atr = \"Publier une annonce\"\n",
    "# //a[@title=\"Publier une annonce\"]\n"
   ]
  },
  {
   "cell_type": "code",
   "execution_count": 7,
   "id": "5f1662db",
   "metadata": {},
   "outputs": [],
   "source": [
    "UserElement = driver.find_element_by_xpath('//input[@id=\"username\"]')\n",
    "UserElement.clear()\n",
    "UserElement.send_keys(NomUtilisateur)\n",
    "time.sleep(3)"
   ]
  },
  {
   "cell_type": "code",
   "execution_count": 8,
   "id": "b04dcd03",
   "metadata": {},
   "outputs": [],
   "source": [
    "passworElement = driver.find_element_by_xpath('//input[@id=\"password\"]')\n",
    "passworElement.clear()\n",
    "passworElement.send_keys(password)\n",
    "time.sleep(3)"
   ]
  },
  {
   "cell_type": "code",
   "execution_count": 9,
   "id": "b0ca1d5a",
   "metadata": {},
   "outputs": [
    {
     "data": {
      "text/plain": [
       "()"
      ]
     },
     "execution_count": 9,
     "metadata": {},
     "output_type": "execute_result"
    }
   ],
   "source": [
    "ValiderElement = driver.find_element_by_xpath('//input[@value=\"Valider\"]')\n",
    "ValiderElement.click()\n",
    "time.sleep(3)\n",
    "\n",
    "# if passworElement:\n",
    "#     passworElement = driver.find_element_by_xpath('//input[@id=\"password\"]')\n",
    "#     passworElement.clearque_choisir = input(\"Entrez la catégorie dans laquelle vous souhaitez publier l'annonce\")\n",
    "()\n",
    "#     passworElement.send_keys(password)\n",
    "    \n",
    "#     ValiderElement = driver.find_element_by_xpath('//input[@value=\"Valider\"]')\n",
    "#     ValiderElement.click()\n",
    "#     time.sleep(3)"
   ]
  },
  {
   "cell_type": "code",
   "execution_count": 10,
   "id": "3cea4b8e",
   "metadata": {},
   "outputs": [],
   "source": [
    "passworElement = driver.find_element_by_xpath('//input[@id=\"password\"]')\n",
    "passworElement.clear()\n",
    "passworElement.send_keys(password)\n",
    "time.sleep(3)"
   ]
  },
  {
   "cell_type": "code",
   "execution_count": 11,
   "id": "6dfbfad0",
   "metadata": {},
   "outputs": [
    {
     "data": {
      "text/plain": [
       "()"
      ]
     },
     "execution_count": 11,
     "metadata": {},
     "output_type": "execute_result"
    }
   ],
   "source": [
    "ValiderElement = driver.find_element_by_xpath('//input[@value=\"Valider\"]')\n",
    "ValiderElement.click()\n",
    "time.sleep(3)\n",
    "\n",
    "# if passworElement:\n",
    "#     passworElement = driver.find_element_by_xpath('//input[@id=\"password\"]')\n",
    "#     passworElement.clearque_choisir = input(\"Entrez la catégorie dans laquelle vous souhaitez publier l'annonce\")\n",
    "()\n",
    "#     passworElement.send_keys(password)\n",
    "    \n",
    "#     ValiderElement = driver.find_element_by_xpath('//input[@value=\"Valider\"]')\n",
    "#     ValiderElement.click()\n",
    "#     time.sleep(3)"
   ]
  },
  {
   "cell_type": "code",
   "execution_count": 10,
   "id": "427561b5",
   "metadata": {},
   "outputs": [],
   "source": [
    "    driver.execute_script(\"window.scrollBy(0,900)\")"
   ]
  },
  {
   "cell_type": "code",
   "execution_count": 12,
   "id": "ad7a41b2",
   "metadata": {},
   "outputs": [],
   "source": [
    "AnnonceElement = driver.find_element_by_xpath('//a[text()=\"Publiez une annonce gratuite\"]')\n",
    "AnnonceElement.click()\n",
    "time.sleep(3)"
   ]
  },
  {
   "cell_type": "code",
   "execution_count": 37,
   "id": "f245af78",
   "metadata": {},
   "outputs": [],
   "source": [
    "from selenium.webdriver.support.ui import Select"
   ]
  },
  {
   "cell_type": "code",
   "execution_count": 41,
   "id": "5eb7aa09",
   "metadata": {},
   "outputs": [
    {
     "name": "stdout",
     "output_type": "stream",
     "text": [
      "quel est number de immobilier3\n"
     ]
    }
   ],
   "source": [
    "# location select\n",
    "number = int(input('quel est number de immobilier'))\n",
    "number = ('*')\n",
    "vente_immobilier = driver.find_element_by_xpath('//div[@class=\"leveled_level_box leveled_cat_1\"]/ul/li[*]')\n",
    "vente_immobilier.click()"
   ]
  },
  {
   "cell_type": "code",
   "execution_count": null,
   "id": "f11f3686",
   "metadata": {},
   "outputs": [],
   "source": []
  },
  {
   "cell_type": "code",
   "execution_count": null,
   "id": "55b2a83c",
   "metadata": {},
   "outputs": [],
   "source": []
  }
 ],
 "metadata": {
  "kernelspec": {
   "display_name": "Python 3",
   "language": "python",
   "name": "python3"
  },
  "language_info": {
   "codemirror_mode": {
    "name": "ipython",
    "version": 3
   },
   "file_extension": ".py",
   "mimetype": "text/x-python",
   "name": "python",
   "nbconvert_exporter": "python",
   "pygments_lexer": "ipython3",
   "version": "3.8.8"
  }
 },
 "nbformat": 4,
 "nbformat_minor": 5
}

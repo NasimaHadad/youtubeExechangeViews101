{
 "cells": [
  {
   "cell_type": "markdown",
   "id": "486dca5b",
   "metadata": {},
   "source": [
    "# Selenium Pro - Annonces Immobilier -"
   ]
  },
  {
   "cell_type": "code",
   "execution_count": 1,
   "id": "e7a40926",
   "metadata": {},
   "outputs": [],
   "source": [
    "# Importing Packages\n",
    "from selenium import webdriver\n",
    "import time\n",
    "import os"
   ]
  },
  {
   "cell_type": "markdown",
   "id": "e83ce078",
   "metadata": {},
   "source": [
    "# Selenium Pro - PostAnnoncesIMmobilier"
   ]
  },
  {
   "cell_type": "markdown",
   "id": "bcf802fe",
   "metadata": {},
   "source": [
    "## Section 1 : Launch Browser"
   ]
  },
  {
   "cell_type": "code",
   "execution_count": 12,
   "id": "0e3b51df",
   "metadata": {},
   "outputs": [],
   "source": [
    "driver = webdriver.Chrome()\n",
    "# URL Site marocannonces\n",
    "base_url = 'https://www.marocannonces.com/mon-compte/'\n",
    "driver.get(base_url)\n",
    "time.sleep(3)"
   ]
  },
  {
   "cell_type": "code",
   "execution_count": 3,
   "id": "9304e2da",
   "metadata": {},
   "outputs": [],
   "source": [
    "driver.delete_all_cookies()"
   ]
  },
  {
   "cell_type": "code",
   "execution_count": 4,
   "id": "d54efedf",
   "metadata": {},
   "outputs": [],
   "source": [
    "# Maximaize the browser window\n",
    "driver.maximize_window()"
   ]
  },
  {
   "cell_type": "markdown",
   "id": "4fdd1c47",
   "metadata": {},
   "source": [
    "## Section 2 : Sign in Process"
   ]
  },
  {
   "cell_type": "code",
   "execution_count": 5,
   "id": "2571ecee",
   "metadata": {},
   "outputs": [],
   "source": [
    "# Account login information"
   ]
  },
  {
   "cell_type": "code",
   "execution_count": 13,
   "id": "2ac5010e",
   "metadata": {},
   "outputs": [],
   "source": [
    "NomUtilisateur = 'xenaX7'\n",
    "password = 'root@25-12TOOR77xy00'\n",
    "\n",
    "# Create Xpath code to type userName\n",
    "# tag = input\n",
    "# atr = id=\"username\"\n",
    "#//input[@id=\"username\"]\n",
    "#####################################################\n",
    "# Create Xpath code to type password\n",
    "# tag = input\n",
    "# atr = id=\"password\"\n",
    "#//input[@id=\"password\"]\n",
    "#####################################################\n",
    "# Create Xpath code to type Valider\n",
    "# tag = input\n",
    "# atr = value=\"Valider\"\n",
    "# //input[@value=\"Valider\"]\n",
    "#######################################################\n",
    "# Create Xpath code to click publier une annonce\n",
    "# tag = a\n",
    "# atr = \"Publier une annonce\"\n",
    "# //a[@title=\"Publier une annonce\"]\n"
   ]
  },
  {
   "cell_type": "code",
   "execution_count": 14,
   "id": "3424a09e",
   "metadata": {},
   "outputs": [],
   "source": [
    "UserElement = driver.find_element_by_xpath('//input[@id=\"username\"]')\n",
    "UserElement.send_keys(NomUtilisateur)\n",
    "time.sleep(3)"
   ]
  },
  {
   "cell_type": "code",
   "execution_count": 15,
   "id": "027e5156",
   "metadata": {},
   "outputs": [],
   "source": [
    "passworElement = driver.find_element_by_xpath('//input[@id=\"password\"]')\n",
    "passworElement.send_keys(password)\n",
    "time.sleep(3)"
   ]
  },
  {
   "cell_type": "code",
   "execution_count": 16,
   "id": "37caf482",
   "metadata": {},
   "outputs": [],
   "source": [
    "ValiderElement = driver.find_element_by_xpath('//input[@value=\"Valider\"]')\n",
    "ValiderElement.click()\n",
    "time.sleep(3)"
   ]
  },
  {
   "cell_type": "code",
   "execution_count": null,
   "id": "fc3d6575",
   "metadata": {},
   "outputs": [],
   "source": [
    "driver.implicitly_wait(0.25)\n",
    "\n",
    "\n",
    "time.sleep(3)\n",
    "# click on the b_year\n",
    "while True:\n",
    "    # Get possible Xpath element\n",
    "    passworElement = driver.find_element_by_xpath('//input[@id=\"password\"]')\n",
    "    if len( passworElement) > 0:\n",
    "        passworElement = passworElements[0]\n",
    "        # click on the b_year\n",
    "        passworElement.send_keys(password)\n",
    "        break\n",
    " "
   ]
  },
  {
   "cell_type": "code",
   "execution_count": 10,
   "id": "327c702b",
   "metadata": {},
   "outputs": [],
   "source": [
    "    driver.execute_script(\"window.scrollBy(0,900)\")"
   ]
  },
  {
   "cell_type": "code",
   "execution_count": 13,
   "id": "6ec753d1",
   "metadata": {},
   "outputs": [],
   "source": [
    "AnnonceElement = driver.find_element_by_xpath('//a[text()=\"Publiez une annonce gratuite\"]')\n",
    "AnnonceElement.click()\n",
    "time.sleep(3)"
   ]
  },
  {
   "cell_type": "code",
   "execution_count": 17,
   "id": "9ca01f43",
   "metadata": {},
   "outputs": [],
   "source": [
    "# URL demandes d'emploi marocannonces\n",
    "base_url = \"https://www.marocannonces.com/maroc/demandes-d'emploi-b310.html\"\n",
    "driver.get(base_url)\n",
    "time.sleep(3)\n"
   ]
  },
  {
   "cell_type": "code",
   "execution_count": 18,
   "id": "42d4197a",
   "metadata": {},
   "outputs": [],
   "source": [
    "    driver.execute_script(\"window.scrollBy(0,900)\")"
   ]
  },
  {
   "cell_type": "code",
   "execution_count": 23,
   "id": "32a916f9",
   "metadata": {},
   "outputs": [
    {
     "name": "stdout",
     "output_type": "stream",
     "text": [
      "20\n",
      " \n",
      "https://www.marocannonces.com/categorie/310/Demandes-demploi/annonce/8754923/Manager-professionnel-exp%C3%A9riment%C3%A9.html\n",
      "https://www.marocannonces.com/categorie/310/Demandes-demploi/annonce/8754921/Chef-de-Cuisine.html\n",
      "https://www.marocannonces.com/categorie/310/Demandes-demploi/annonce/8754912/Commercial-chauffeur.html\n",
      "https://www.marocannonces.com/categorie/310/Demandes-demploi/annonce/8754910/Chauffeur.html\n",
      "https://www.marocannonces.com/categorie/310/Demandes-demploi/annonce/8749906/Secr%C3%A9taire,-a%C3%AEde-comptable.html\n",
      "https://www.marocannonces.com/categorie/310/Demandes-demploi/annonce/8754905/%C3%89ducatriceaba-avs.html\n",
      "https://www.marocannonces.com/categorie/310/Demandes-demploi/annonce/8754896/Serveur-exp%C3%A9riment%C3%A9.html\n",
      "https://www.marocannonces.com/categorie/310/Demandes-demploi/annonce/8754875/Magasinier,assistant,coursier.html\n",
      "https://www.marocannonces.com/categorie/310/Demandes-demploi/annonce/8706368/Assistante-polyvalente.html\n",
      "https://www.marocannonces.com/categorie/310/Demandes-demploi/annonce/8754845/Secr%C3%A9taire-Op%C3%A9ratrice-de-saisie.html\n",
      "https://www.marocannonces.com/categorie/310/Demandes-demploi/annonce/8700940/Gardien.html\n",
      "https://www.marocannonces.com/categorie/310/Demandes-demploi/annonce/8682312/Agent-de-s%C3%A9curit%C3%A9.html\n",
      "https://www.marocannonces.com/categorie/310/Demandes-demploi/annonce/8477865/Demande-emploi-agent-de-s%C3%A9curit%C3%A9-service-nuit.html\n",
      "https://www.marocannonces.com/categorie/310/Demandes-demploi/annonce/8740978/Comptable-junior.html\n",
      "https://www.marocannonces.com/categorie/310/Demandes-demploi/annonce/8492824/Demande-emploi-assistante.html\n",
      "https://www.marocannonces.com/categorie/310/Demandes-demploi/annonce/8486387/Responsable-administratif-et-financier.html\n",
      "https://www.marocannonces.com/categorie/310/Demandes-demploi/annonce/8472578/Chef-comptable.html\n",
      "https://www.marocannonces.com/categorie/310/Demandes-demploi/annonce/8731342/Dessinateur-programmeur-cnc.html\n",
      "https://www.marocannonces.com/categorie/310/Demandes-demploi/annonce/8754830/Serveur-pro.html\n",
      "https://www.marocannonces.com/categorie/310/Demandes-demploi/annonce/8745133/Commerciale.html\n"
     ]
    }
   ],
   "source": [
    "# Scrape videos links\n",
    "links = driver.find_elements_by_xpath('//div[@class=\"used-cars\"]/ul/li/div/a')\n",
    "\n",
    "links_list = []\n",
    "for link in links:\n",
    "    links_list.append(link.get_attribute('href'))\n",
    " \n",
    "# titles_list = list(filter(None, titles_list))\n",
    "\n",
    "print(len(links_list))\n",
    "print(\" \")\n",
    "\n",
    "for link in links_list:\n",
    "    print(link)"
   ]
  },
  {
   "cell_type": "code",
   "execution_count": null,
   "id": "a812009d",
   "metadata": {},
   "outputs": [],
   "source": [
    "# Create a list from a single elemment\n",
    "suivant = driver.find_elements_by_xpath('//a[text()=\"Suivant\"]')\n",
    "\n",
    "# print(nomore_results)\n",
    "\n",
    "# Create a Conditional loop based on len(nomore_results) - the lenght of the list\n",
    "while len(suivant) == 0:\n",
    "    driver.execute_script(\"window.scrollBy(0,3000)\")\n",
    "    time.sleep(1)\n",
    "    suivant = driver.find_elements_by_xpath('//a[text()=\"Suivant\"]')\n",
    "\n",
    "    \n",
    "print(\"suivant !!\")  "
   ]
  },
  {
   "cell_type": "code",
   "execution_count": null,
   "id": "8d2bdec5",
   "metadata": {},
   "outputs": [],
   "source": []
  }
 ],
 "metadata": {
  "kernelspec": {
   "display_name": "Python 3",
   "language": "python",
   "name": "python3"
  },
  "language_info": {
   "codemirror_mode": {
    "name": "ipython",
    "version": 3
   },
   "file_extension": ".py",
   "mimetype": "text/x-python",
   "name": "python",
   "nbconvert_exporter": "python",
   "pygments_lexer": "ipython3",
   "version": "3.8.8"
  }
 },
 "nbformat": 4,
 "nbformat_minor": 5
}
